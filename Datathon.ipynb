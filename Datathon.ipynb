{
  "nbformat": 4,
  "nbformat_minor": 0,
  "metadata": {
    "colab": {
      "provenance": [],
      "mount_file_id": "1Zeyri29hiqsq0780-kHMzszpl0fTe7iy",
      "authorship_tag": "ABX9TyOv+pHfmeDBokqT07yeEwx+",
      "include_colab_link": true
    },
    "kernelspec": {
      "name": "python3",
      "display_name": "Python 3"
    },
    "language_info": {
      "name": "python"
    }
  },
  "cells": [
    {
      "cell_type": "markdown",
      "metadata": {
        "id": "view-in-github",
        "colab_type": "text"
      },
      "source": [
        "<a href=\"https://colab.research.google.com/github/Yueming02/Datathon/blob/main/Datathon.ipynb\" target=\"_parent\"><img src=\"https://colab.research.google.com/assets/colab-badge.svg\" alt=\"Open In Colab\"/></a>"
      ]
    },
    {
      "cell_type": "code",
      "execution_count": 109,
      "metadata": {
        "id": "Y_rzzZzSjx82"
      },
      "outputs": [],
      "source": [
        "import numpy as np \n",
        "import pandas as pd"
      ]
    },
    {
      "cell_type": "code",
      "source": [
        "import warnings\n",
        "warnings.filterwarnings('ignore')\n",
        "\n",
        "import matplotlib.pyplot as plt\n",
        "import seaborn as sns\n",
        "import nltk\n",
        "import re\n",
        "\n",
        "from tensorflow.keras.preprocessing.text import Tokenizer\n",
        "from tensorflow.keras.preprocessing.sequence import pad_sequences\n",
        "from tensorflow.keras.models import Sequential\n",
        "#from tensorflow.keras.layers import Dense, Embedding, LSTM,Conv1D,MaxPool1D\n",
        "from sklearn.model_selection import train_test_split\n",
        "from sklearn.metrics import classification_report, accuracy_score\n",
        "\n",
        "#import gensim"
      ],
      "metadata": {
        "id": "hl6c5RMDj881"
      },
      "execution_count": 110,
      "outputs": []
    },
    {
      "cell_type": "code",
      "source": [
        "df_true=pd.read_csv('drive/MyDrive/DataSet_Misinfo_TRUE.csv')"
      ],
      "metadata": {
        "id": "JQQ4mkHlvILm"
      },
      "execution_count": 111,
      "outputs": []
    },
    {
      "cell_type": "code",
      "source": [
        "df_fake=pd.read_csv('drive/MyDrive/DataSet_Misinfo_FAKE.csv')"
      ],
      "metadata": {
        "id": "lsMSDLFcvIYM"
      },
      "execution_count": 112,
      "outputs": []
    },
    {
      "cell_type": "code",
      "source": [
        "df_true['label']=1\n",
        "df_true=df_true.drop('Unnamed: 0',axis=1)\n",
        "df_true.head()"
      ],
      "metadata": {
        "colab": {
          "base_uri": "https://localhost:8080/",
          "height": 206
        },
        "id": "E7VTFY9gwsbf",
        "outputId": "bfd342ab-63f6-4f0f-dc3c-4a3396a33587"
      },
      "execution_count": 113,
      "outputs": [
        {
          "output_type": "execute_result",
          "data": {
            "text/plain": [
              "                                                text  label\n",
              "0  The head of a conservative Republican faction ...      1\n",
              "1  Transgender people will be allowed for the fir...      1\n",
              "2  The special counsel investigation of links bet...      1\n",
              "3  Trump campaign adviser George Papadopoulos tol...      1\n",
              "4  President Donald Trump called on the U.S. Post...      1"
            ],
            "text/html": [
              "\n",
              "  <div id=\"df-4adf6f16-9f2c-4421-aada-2c282588eacc\">\n",
              "    <div class=\"colab-df-container\">\n",
              "      <div>\n",
              "<style scoped>\n",
              "    .dataframe tbody tr th:only-of-type {\n",
              "        vertical-align: middle;\n",
              "    }\n",
              "\n",
              "    .dataframe tbody tr th {\n",
              "        vertical-align: top;\n",
              "    }\n",
              "\n",
              "    .dataframe thead th {\n",
              "        text-align: right;\n",
              "    }\n",
              "</style>\n",
              "<table border=\"1\" class=\"dataframe\">\n",
              "  <thead>\n",
              "    <tr style=\"text-align: right;\">\n",
              "      <th></th>\n",
              "      <th>text</th>\n",
              "      <th>label</th>\n",
              "    </tr>\n",
              "  </thead>\n",
              "  <tbody>\n",
              "    <tr>\n",
              "      <th>0</th>\n",
              "      <td>The head of a conservative Republican faction ...</td>\n",
              "      <td>1</td>\n",
              "    </tr>\n",
              "    <tr>\n",
              "      <th>1</th>\n",
              "      <td>Transgender people will be allowed for the fir...</td>\n",
              "      <td>1</td>\n",
              "    </tr>\n",
              "    <tr>\n",
              "      <th>2</th>\n",
              "      <td>The special counsel investigation of links bet...</td>\n",
              "      <td>1</td>\n",
              "    </tr>\n",
              "    <tr>\n",
              "      <th>3</th>\n",
              "      <td>Trump campaign adviser George Papadopoulos tol...</td>\n",
              "      <td>1</td>\n",
              "    </tr>\n",
              "    <tr>\n",
              "      <th>4</th>\n",
              "      <td>President Donald Trump called on the U.S. Post...</td>\n",
              "      <td>1</td>\n",
              "    </tr>\n",
              "  </tbody>\n",
              "</table>\n",
              "</div>\n",
              "      <button class=\"colab-df-convert\" onclick=\"convertToInteractive('df-4adf6f16-9f2c-4421-aada-2c282588eacc')\"\n",
              "              title=\"Convert this dataframe to an interactive table.\"\n",
              "              style=\"display:none;\">\n",
              "        \n",
              "  <svg xmlns=\"http://www.w3.org/2000/svg\" height=\"24px\"viewBox=\"0 0 24 24\"\n",
              "       width=\"24px\">\n",
              "    <path d=\"M0 0h24v24H0V0z\" fill=\"none\"/>\n",
              "    <path d=\"M18.56 5.44l.94 2.06.94-2.06 2.06-.94-2.06-.94-.94-2.06-.94 2.06-2.06.94zm-11 1L8.5 8.5l.94-2.06 2.06-.94-2.06-.94L8.5 2.5l-.94 2.06-2.06.94zm10 10l.94 2.06.94-2.06 2.06-.94-2.06-.94-.94-2.06-.94 2.06-2.06.94z\"/><path d=\"M17.41 7.96l-1.37-1.37c-.4-.4-.92-.59-1.43-.59-.52 0-1.04.2-1.43.59L10.3 9.45l-7.72 7.72c-.78.78-.78 2.05 0 2.83L4 21.41c.39.39.9.59 1.41.59.51 0 1.02-.2 1.41-.59l7.78-7.78 2.81-2.81c.8-.78.8-2.07 0-2.86zM5.41 20L4 18.59l7.72-7.72 1.47 1.35L5.41 20z\"/>\n",
              "  </svg>\n",
              "      </button>\n",
              "      \n",
              "  <style>\n",
              "    .colab-df-container {\n",
              "      display:flex;\n",
              "      flex-wrap:wrap;\n",
              "      gap: 12px;\n",
              "    }\n",
              "\n",
              "    .colab-df-convert {\n",
              "      background-color: #E8F0FE;\n",
              "      border: none;\n",
              "      border-radius: 50%;\n",
              "      cursor: pointer;\n",
              "      display: none;\n",
              "      fill: #1967D2;\n",
              "      height: 32px;\n",
              "      padding: 0 0 0 0;\n",
              "      width: 32px;\n",
              "    }\n",
              "\n",
              "    .colab-df-convert:hover {\n",
              "      background-color: #E2EBFA;\n",
              "      box-shadow: 0px 1px 2px rgba(60, 64, 67, 0.3), 0px 1px 3px 1px rgba(60, 64, 67, 0.15);\n",
              "      fill: #174EA6;\n",
              "    }\n",
              "\n",
              "    [theme=dark] .colab-df-convert {\n",
              "      background-color: #3B4455;\n",
              "      fill: #D2E3FC;\n",
              "    }\n",
              "\n",
              "    [theme=dark] .colab-df-convert:hover {\n",
              "      background-color: #434B5C;\n",
              "      box-shadow: 0px 1px 3px 1px rgba(0, 0, 0, 0.15);\n",
              "      filter: drop-shadow(0px 1px 2px rgba(0, 0, 0, 0.3));\n",
              "      fill: #FFFFFF;\n",
              "    }\n",
              "  </style>\n",
              "\n",
              "      <script>\n",
              "        const buttonEl =\n",
              "          document.querySelector('#df-4adf6f16-9f2c-4421-aada-2c282588eacc button.colab-df-convert');\n",
              "        buttonEl.style.display =\n",
              "          google.colab.kernel.accessAllowed ? 'block' : 'none';\n",
              "\n",
              "        async function convertToInteractive(key) {\n",
              "          const element = document.querySelector('#df-4adf6f16-9f2c-4421-aada-2c282588eacc');\n",
              "          const dataTable =\n",
              "            await google.colab.kernel.invokeFunction('convertToInteractive',\n",
              "                                                     [key], {});\n",
              "          if (!dataTable) return;\n",
              "\n",
              "          const docLinkHtml = 'Like what you see? Visit the ' +\n",
              "            '<a target=\"_blank\" href=https://colab.research.google.com/notebooks/data_table.ipynb>data table notebook</a>'\n",
              "            + ' to learn more about interactive tables.';\n",
              "          element.innerHTML = '';\n",
              "          dataTable['output_type'] = 'display_data';\n",
              "          await google.colab.output.renderOutput(dataTable, element);\n",
              "          const docLink = document.createElement('div');\n",
              "          docLink.innerHTML = docLinkHtml;\n",
              "          element.appendChild(docLink);\n",
              "        }\n",
              "      </script>\n",
              "    </div>\n",
              "  </div>\n",
              "  "
            ]
          },
          "metadata": {},
          "execution_count": 113
        }
      ]
    },
    {
      "cell_type": "code",
      "source": [
        "df_fake['label']=0\n",
        "df_fake=df_fake.drop('Unnamed: 0',axis=1)\n",
        "df_fake.head()\n",
        "df_fake.shape"
      ],
      "metadata": {
        "colab": {
          "base_uri": "https://localhost:8080/"
        },
        "id": "TnlODdDCw17g",
        "outputId": "f0dfad4e-cf9e-4202-95b4-d4ca903a1cfd"
      },
      "execution_count": 114,
      "outputs": [
        {
          "output_type": "execute_result",
          "data": {
            "text/plain": [
              "(43642, 2)"
            ]
          },
          "metadata": {},
          "execution_count": 114
        }
      ]
    },
    {
      "cell_type": "code",
      "source": [
        "df_true.shape"
      ],
      "metadata": {
        "colab": {
          "base_uri": "https://localhost:8080/"
        },
        "id": "nxBNUcRe9HUL",
        "outputId": "d3a4b0d9-873c-4041-eb9b-98ca67020885"
      },
      "execution_count": 115,
      "outputs": [
        {
          "output_type": "execute_result",
          "data": {
            "text/plain": [
              "(34975, 2)"
            ]
          },
          "metadata": {},
          "execution_count": 115
        }
      ]
    },
    {
      "cell_type": "code",
      "source": [
        "df=pd.concat([df_true,df_fake])\n",
        "df.info()"
      ],
      "metadata": {
        "colab": {
          "base_uri": "https://localhost:8080/"
        },
        "id": "rH_TK8Fv1lCr",
        "outputId": "32ec959f-5148-4cca-8267-369a06245227"
      },
      "execution_count": 116,
      "outputs": [
        {
          "output_type": "stream",
          "name": "stdout",
          "text": [
            "<class 'pandas.core.frame.DataFrame'>\n",
            "Int64Index: 78617 entries, 0 to 43641\n",
            "Data columns (total 2 columns):\n",
            " #   Column  Non-Null Count  Dtype \n",
            "---  ------  --------------  ----- \n",
            " 0   text    78588 non-null  object\n",
            " 1   label   78617 non-null  int64 \n",
            "dtypes: int64(1), object(1)\n",
            "memory usage: 1.8+ MB\n"
          ]
        }
      ]
    },
    {
      "cell_type": "code",
      "source": [
        "df=df.dropna(how=\"any\")\n",
        "df.info()"
      ],
      "metadata": {
        "colab": {
          "base_uri": "https://localhost:8080/"
        },
        "id": "QMF2WWwU2hOY",
        "outputId": "c58dee51-79dc-4846-cbf1-4117fb8f0b93"
      },
      "execution_count": 117,
      "outputs": [
        {
          "output_type": "stream",
          "name": "stdout",
          "text": [
            "<class 'pandas.core.frame.DataFrame'>\n",
            "Int64Index: 78588 entries, 0 to 43641\n",
            "Data columns (total 2 columns):\n",
            " #   Column  Non-Null Count  Dtype \n",
            "---  ------  --------------  ----- \n",
            " 0   text    78588 non-null  object\n",
            " 1   label   78588 non-null  int64 \n",
            "dtypes: int64(1), object(1)\n",
            "memory usage: 1.8+ MB\n"
          ]
        }
      ]
    },
    {
      "cell_type": "code",
      "source": [
        "df.shape"
      ],
      "metadata": {
        "colab": {
          "base_uri": "https://localhost:8080/"
        },
        "id": "OfOCB0EH9VQ7",
        "outputId": "f0cf16ba-417b-4307-d932-0a84c127435c"
      },
      "execution_count": 118,
      "outputs": [
        {
          "output_type": "execute_result",
          "data": {
            "text/plain": [
              "(78588, 2)"
            ]
          },
          "metadata": {},
          "execution_count": 118
        }
      ]
    },
    {
      "cell_type": "markdown",
      "source": [
        "Do some text cleaning"
      ],
      "metadata": {
        "id": "sluB6zmG33e2"
      }
    },
    {
      "cell_type": "code",
      "source": [
        "# Function to clean text\n",
        "def clean_text(text):\n",
        "    # Remove punctuation\n",
        "    text = re.sub(r'[^\\w\\s]', '', text)\n",
        "    # Remove numbers\n",
        "    text = re.sub(r'\\d+', '', text)\n",
        "    # Remove HTML tags\n",
        "    text = re.sub(r'<[^>]+>', '', text)\n",
        "    # Remove special characters\n",
        "    text = re.sub(r'[^\\w\\s]|_', '', text)\n",
        "    # Convert to lowercase\n",
        "    text = text.lower()\n",
        "    # Tokenize\n",
        "    words = text.split()\n",
        "    # Remove stop words\n",
        "    # (You will need to download the NLTK library and the stopwords corpus for this)\n",
        "    # from nltk.corpus import stopwords\n",
        "    # stop_words = set(stopwords.words('english'))\n",
        "    # words = [w for w in words if not w in stop_words]\n",
        "    # Stemming or Lemmatization\n",
        "    # (You will need to download the NLTK library and the WordNetLemmatizer for this)\n",
        "    # from nltk.stem import WordNetLemmatizer\n",
        "    # lemmatizer = WordNetLemmatizer()\n",
        "    # words = [lemmatizer.lemmatize(w) for w in words]\n",
        "    # Join the words back into a string\n",
        "    clean_text = ' '.join(words)\n",
        "    return clean_text\n",
        "\n",
        "# Apply the clean_text function to the 'text' column\n",
        "df['clean_text'] = df['text'].apply(clean_text)\n",
        "\n",
        "# View the results\n",
        "print(df.head)\n",
        "\n"
      ],
      "metadata": {
        "colab": {
          "base_uri": "https://localhost:8080/"
        },
        "id": "EpSzNbj532fI",
        "outputId": "a8aaa616-2746-4250-ce81-ba193a5d5962"
      },
      "execution_count": 119,
      "outputs": [
        {
          "output_type": "stream",
          "name": "stdout",
          "text": [
            "<bound method NDFrame.head of                                                     text  label  \\\n",
            "0      The head of a conservative Republican faction ...      1   \n",
            "1      Transgender people will be allowed for the fir...      1   \n",
            "2      The special counsel investigation of links bet...      1   \n",
            "3      Trump campaign adviser George Papadopoulos tol...      1   \n",
            "4      President Donald Trump called on the U.S. Post...      1   \n",
            "...                                                  ...    ...   \n",
            "43637  The USA wants to divide Syria.\\r\\n\\r\\nGreat Br...      0   \n",
            "43638  The Ukrainian coup d'etat cost the US nothing ...      0   \n",
            "43639  The European Parliament falsifies history by d...      0   \n",
            "43640  The European Parliament falsifies history by d...      0   \n",
            "43641  A leading FSB officer, Segey Beseda, said duri...      0   \n",
            "\n",
            "                                              clean_text  \n",
            "0      the head of a conservative republican faction ...  \n",
            "1      transgender people will be allowed for the fir...  \n",
            "2      the special counsel investigation of links bet...  \n",
            "3      trump campaign adviser george papadopoulos tol...  \n",
            "4      president donald trump called on the us postal...  \n",
            "...                                                  ...  \n",
            "43637  the usa wants to divide syria great britain fr...  \n",
            "43638  the ukrainian coup detat cost the us nothing o...  \n",
            "43639  the european parliament falsifies history by d...  \n",
            "43640  the european parliament falsifies history by d...  \n",
            "43641  a leading fsb officer segey beseda said during...  \n",
            "\n",
            "[78588 rows x 3 columns]>\n"
          ]
        }
      ]
    },
    {
      "cell_type": "code",
      "source": [
        "df.shape"
      ],
      "metadata": {
        "colab": {
          "base_uri": "https://localhost:8080/"
        },
        "id": "vNMOWrGK90K9",
        "outputId": "fa729d6a-6323-43c4-b54b-e093af2599bd"
      },
      "execution_count": 120,
      "outputs": [
        {
          "output_type": "execute_result",
          "data": {
            "text/plain": [
              "(78588, 3)"
            ]
          },
          "metadata": {},
          "execution_count": 120
        }
      ]
    },
    {
      "cell_type": "code",
      "source": [
        "import gensim\n",
        "from gensim import corpora\n",
        "from gensim.models import LdaModel\n",
        "from gensim.utils import simple_preprocess\n",
        "from gensim.parsing.preprocessing import STOPWORDS\n",
        "\n",
        "# Define stop words\n",
        "stop_words = set(STOPWORDS)\n",
        "\n",
        "# Define function to preprocess text\n",
        "def preprocess(text):\n",
        "    result = []\n",
        "    for token in simple_preprocess(text):\n",
        "        if token not in stop_words and len(token) > 3:\n",
        "            result.append(token)\n",
        "    return result\n",
        "\n",
        "# Preprocess text data\n",
        "processed_data = []\n",
        "for doc in df['clean_text']:\n",
        "    processed_data.append(preprocess(doc))\n",
        "\n",
        "# Create dictionary\n",
        "dictionary = corpora.Dictionary(processed_data)\n",
        "\n",
        "# Convert corpus to bag of words format\n",
        "corpus = [dictionary.doc2bow(doc) for doc in processed_data]\n",
        "\n",
        "# Build LDA model\n",
        "lda_model = LdaModel(corpus=corpus, id2word=dictionary, num_topics=5, passes=10)\n",
        "\n",
        "# Print topics\n",
        "for idx, topic in lda_model.print_topics(-1):\n",
        "    print('Topic: {} \\nWords: {}'.format(idx, topic))\n"
      ],
      "metadata": {
        "colab": {
          "base_uri": "https://localhost:8080/"
        },
        "id": "QkB9CClkmJiv",
        "outputId": "7644f034-1002-47c2-be46-d9a54fc6aba5"
      },
      "execution_count": 39,
      "outputs": [
        {
          "output_type": "stream",
          "name": "stdout",
          "text": [
            "Topic: 0 \n",
            "Words: 0.012*\"police\" + 0.011*\"said\" + 0.007*\"state\" + 0.006*\"court\" + 0.006*\"case\" + 0.006*\"department\" + 0.005*\"federal\" + 0.005*\"justice\" + 0.005*\"government\" + 0.004*\"rights\"\n",
            "Topic: 1 \n",
            "Words: 0.029*\"trump\" + 0.020*\"clinton\" + 0.014*\"hillary\" + 0.010*\"president\" + 0.010*\"election\" + 0.008*\"donald\" + 0.008*\"campaign\" + 0.007*\"obama\" + 0.007*\"said\" + 0.005*\"presidential\"\n",
            "Topic: 2 \n",
            "Words: 0.009*\"people\" + 0.007*\"like\" + 0.005*\"time\" + 0.004*\"world\" + 0.003*\"know\" + 0.003*\"black\" + 0.003*\"said\" + 0.003*\"dont\" + 0.003*\"years\" + 0.003*\"life\"\n",
            "Topic: 3 \n",
            "Words: 0.013*\"russia\" + 0.008*\"russian\" + 0.008*\"military\" + 0.007*\"ukraine\" + 0.007*\"syria\" + 0.005*\"said\" + 0.005*\"government\" + 0.005*\"united\" + 0.005*\"states\" + 0.004*\"state\"\n",
            "Topic: 4 \n",
            "Words: 0.005*\"money\" + 0.005*\"government\" + 0.005*\"health\" + 0.005*\"percent\" + 0.004*\"million\" + 0.004*\"states\" + 0.004*\"year\" + 0.004*\"economic\" + 0.003*\"said\" + 0.003*\"years\"\n"
          ]
        }
      ]
    },
    {
      "cell_type": "code",
      "source": [
        "# Get the topic distributions for each document in the dataset\n",
        "doc_topic_dists = np.array([lda_model.get_document_topics(doc, minimum_probability=0) for doc in corpus])\n",
        "\n",
        "# Print the topic distributions for the first 5 documents\n",
        "for i in range(5):\n",
        "    print(f\"Document {i}: {doc_topic_dists[i]}\")\n"
      ],
      "metadata": {
        "id": "5wOE9khAr-7l"
      },
      "execution_count": null,
      "outputs": []
    },
    {
      "cell_type": "code",
      "source": [
        "# Print the topic distributions for the first 5 documents\n",
        "for i in range(10):\n",
        "    print(f\"Document {i}: {doc_topic_dists[i]}\")"
      ],
      "metadata": {
        "id": "Ua3zbJg-txAQ"
      },
      "execution_count": null,
      "outputs": []
    },
    {
      "cell_type": "code",
      "source": [
        "#doc_topic_dists.shape\n",
        "doc_topic_dists.shape"
      ],
      "metadata": {
        "colab": {
          "base_uri": "https://localhost:8080/"
        },
        "id": "AXYB23G06l5k",
        "outputId": "5036c850-df41-42c8-9ba8-0c06b68bb8ce"
      },
      "execution_count": 122,
      "outputs": [
        {
          "output_type": "execute_result",
          "data": {
            "text/plain": [
              "(78588, 5, 2)"
            ]
          },
          "metadata": {},
          "execution_count": 122
        }
      ]
    },
    {
      "cell_type": "code",
      "source": [
        "doc_topic = doc_topic_dists"
      ],
      "metadata": {
        "id": "JDtxP2uc38tX"
      },
      "execution_count": 123,
      "outputs": []
    },
    {
      "cell_type": "code",
      "source": [
        "df_topic = pd.DataFrame(doc_topic.reshape(-1, 2), columns=['topic', 'probability'])\n",
        "\n",
        "# repeat index 1,2,3,4,5 78588 times\n",
        "df_topic.index = np.concatenate([np.repeat([i], 5) for i in range(78588)])\n",
        "#index = np.repeat(np.arange(5), data.shape[0])\n",
        "\n",
        "# preview the resulting dataframe\n",
        "print(df_topic.head(15))\n"
      ],
      "metadata": {
        "colab": {
          "base_uri": "https://localhost:8080/"
        },
        "id": "hQjC5KnoDmO4",
        "outputId": "3878ade8-0bec-449e-a748-dbaa9a41f555"
      },
      "execution_count": 124,
      "outputs": [
        {
          "output_type": "stream",
          "name": "stdout",
          "text": [
            "   topic  probability\n",
            "0    0.0     0.049613\n",
            "0    1.0     0.431341\n",
            "0    2.0     0.000548\n",
            "0    3.0     0.000544\n",
            "0    4.0     0.517954\n",
            "1    0.0     0.640212\n",
            "1    1.0     0.186991\n",
            "1    2.0     0.000997\n",
            "1    3.0     0.107258\n",
            "1    4.0     0.064541\n",
            "2    0.0     0.053317\n",
            "2    1.0     0.887377\n",
            "2    2.0     0.000920\n",
            "2    3.0     0.057475\n",
            "2    4.0     0.000912\n"
          ]
        }
      ]
    },
    {
      "cell_type": "code",
      "source": [
        "df = df.reset_index()\n",
        "df1 = pd.concat([df, df_topic], axis=1)"
      ],
      "metadata": {
        "id": "X5iXxXgvIM49"
      },
      "execution_count": 126,
      "outputs": []
    },
    {
      "cell_type": "code",
      "source": [
        "print(df1.head(-20))"
      ],
      "metadata": {
        "colab": {
          "base_uri": "https://localhost:8080/"
        },
        "id": "5YWJAOj4KWd8",
        "outputId": "1a672c7d-3e7d-476d-925e-8eb82a9a309d"
      },
      "execution_count": 140,
      "outputs": [
        {
          "output_type": "stream",
          "name": "stdout",
          "text": [
            "       index                                               text  label  \\\n",
            "0          0  The head of a conservative Republican faction ...      1   \n",
            "0          0  The head of a conservative Republican faction ...      1   \n",
            "0          0  The head of a conservative Republican faction ...      1   \n",
            "0          0  The head of a conservative Republican faction ...      1   \n",
            "0          0  The head of a conservative Republican faction ...      1   \n",
            "...      ...                                                ...    ...   \n",
            "78583  43637  The USA wants to divide Syria.\\r\\n\\r\\nGreat Br...      0   \n",
            "78583  43637  The USA wants to divide Syria.\\r\\n\\r\\nGreat Br...      0   \n",
            "78583  43637  The USA wants to divide Syria.\\r\\n\\r\\nGreat Br...      0   \n",
            "78583  43637  The USA wants to divide Syria.\\r\\n\\r\\nGreat Br...      0   \n",
            "78583  43637  The USA wants to divide Syria.\\r\\n\\r\\nGreat Br...      0   \n",
            "\n",
            "                                              clean_text  topic  probability  \n",
            "0      the head of a conservative republican faction ...    0.0     0.049613  \n",
            "0      the head of a conservative republican faction ...    1.0     0.431341  \n",
            "0      the head of a conservative republican faction ...    2.0     0.000548  \n",
            "0      the head of a conservative republican faction ...    3.0     0.000544  \n",
            "0      the head of a conservative republican faction ...    4.0     0.517954  \n",
            "...                                                  ...    ...          ...  \n",
            "78583  the usa wants to divide syria great britain fr...    0.0     0.006768  \n",
            "78583  the usa wants to divide syria great britain fr...    1.0     0.006776  \n",
            "78583  the usa wants to divide syria great britain fr...    2.0     0.006790  \n",
            "78583  the usa wants to divide syria great britain fr...    3.0     0.904521  \n",
            "78583  the usa wants to divide syria great britain fr...    4.0     0.075145  \n",
            "\n",
            "[392920 rows x 6 columns]\n"
          ]
        }
      ]
    },
    {
      "cell_type": "code",
      "source": [
        "data = {'topic':[0,1,2,3,4],\n",
        "        \"Type\":['Police and Law','Domestic Politics','Daily','International Politics','Society'],\n",
        "        \"Keywords\":['police，state,court','trump, clinton, president, election','people, like, world'\n",
        "        , 'russia,military,ukraine,syria', 'money, government, health, economics']}\n",
        "df_topicslabel = pd.DataFrame(data)\n",
        "\n",
        "print(df_topicslabel.head())"
      ],
      "metadata": {
        "colab": {
          "base_uri": "https://localhost:8080/"
        },
        "id": "QhNVsG3RLcjF",
        "outputId": "15d46138-1591-48f0-b81e-4a3b0d3ac994"
      },
      "execution_count": 147,
      "outputs": [
        {
          "output_type": "stream",
          "name": "stdout",
          "text": [
            "   topic                    Type                              Keywords\n",
            "0      0          Police and Law                    police，state,court\n",
            "1      1       Domestic Politics   trump, clinton, president, election\n",
            "2      2                   Daily                   people, like, world\n",
            "3      3  International Politics         russia,military,ukraine,syria\n",
            "4      4                 Society  money, government, health, economics\n"
          ]
        }
      ]
    },
    {
      "cell_type": "code",
      "source": [
        "df_final = df1.join(df_topicslabel, on = 'topic', lsuffix=\"_left\")\n",
        "df_final = df_final.drop(['text','clean_text', 'topic_left'], axis=1)\n",
        "print(df_final.head(10))"
      ],
      "metadata": {
        "colab": {
          "base_uri": "https://localhost:8080/"
        },
        "id": "ePJvjVTZTbXz",
        "outputId": "cfdd68e2-a8d9-43ea-ad18-6db5546aff42"
      },
      "execution_count": 157,
      "outputs": [
        {
          "output_type": "stream",
          "name": "stdout",
          "text": [
            "   index  label  probability  topic                    Type  \\\n",
            "0      0      1     0.049613      0          Police and Law   \n",
            "0      0      1     0.431341      1       Domestic Politics   \n",
            "0      0      1     0.000548      2                   Daily   \n",
            "0      0      1     0.000544      3  International Politics   \n",
            "0      0      1     0.517954      4                 Society   \n",
            "1      1      1     0.640212      0          Police and Law   \n",
            "1      1      1     0.186991      1       Domestic Politics   \n",
            "1      1      1     0.000997      2                   Daily   \n",
            "1      1      1     0.107258      3  International Politics   \n",
            "1      1      1     0.064541      4                 Society   \n",
            "\n",
            "                               Keywords  \n",
            "0                    police，state,court  \n",
            "0   trump, clinton, president, election  \n",
            "0                   people, like, world  \n",
            "0         russia,military,ukraine,syria  \n",
            "0  money, government, health, economics  \n",
            "1                    police，state,court  \n",
            "1   trump, clinton, president, election  \n",
            "1                   people, like, world  \n",
            "1         russia,military,ukraine,syria  \n",
            "1  money, government, health, economics  \n"
          ]
        }
      ]
    },
    {
      "cell_type": "code",
      "source": [
        "df_final.to_csv('drive/MyDrive/DataProcessed.csv')"
      ],
      "metadata": {
        "id": "c9E_FnA4WMBB"
      },
      "execution_count": 158,
      "outputs": []
    },
    {
      "cell_type": "markdown",
      "source": [
        "Remove stop words & Tokenization"
      ],
      "metadata": {
        "id": "GvXiFss5M5Bi"
      }
    },
    {
      "cell_type": "code",
      "source": [
        "nltk.download('stopwords')\n",
        "nltk.download('punkt')\n",
        "from nltk.corpus import stopwords\n"
      ],
      "metadata": {
        "colab": {
          "base_uri": "https://localhost:8080/"
        },
        "id": "OsgxH2YICSi2",
        "outputId": "31b4fdbf-7041-4272-b42e-70d355c61383"
      },
      "execution_count": 11,
      "outputs": [
        {
          "output_type": "stream",
          "name": "stderr",
          "text": [
            "[nltk_data] Downloading package stopwords to /root/nltk_data...\n",
            "[nltk_data]   Package stopwords is already up-to-date!\n",
            "[nltk_data] Downloading package punkt to /root/nltk_data...\n",
            "[nltk_data]   Package punkt is already up-to-date!\n"
          ]
        }
      ]
    },
    {
      "cell_type": "code",
      "source": [
        "\n",
        "y = df[\"label\"].values\n",
        "\n",
        "X = []\n",
        "stop_words = set(nltk.corpus.stopwords.words(\"english\"))\n",
        "tokenizer = nltk.tokenize.RegexpTokenizer(r'\\w+')\n",
        "for par in df[\"clean_text\"].values:\n",
        "    tmp = []\n",
        "    sentences = nltk.sent_tokenize(par)\n",
        "    for sent in sentences:\n",
        "        sent = sent.lower()\n",
        "        tokens = tokenizer.tokenize(sent)\n",
        "        filtered_words = [w.strip() for w in tokens if w not in stop_words and len(w) > 1]\n",
        "        tmp.extend(filtered_words)\n",
        "    X.append(tmp)\n"
      ],
      "metadata": {
        "id": "sbFzzHBh8nj4"
      },
      "execution_count": 12,
      "outputs": []
    },
    {
      "cell_type": "code",
      "source": [
        "print(X[:10])"
      ],
      "metadata": {
        "colab": {
          "base_uri": "https://localhost:8080/"
        },
        "id": "2hNHNk9_8nvH",
        "outputId": "03fe9e70-7a85-4a8d-a7d3-f125591f1c3f"
      },
      "execution_count": 14,
      "outputs": [
        {
          "output_type": "stream",
          "name": "stdout",
          "text": [
            "[['head', 'conservative', 'republican', 'faction', 'us', 'congress', 'voted', 'month', 'huge', 'expansion', 'national', 'debt', 'pay', 'tax', 'cuts', 'called', 'fiscal', 'conservative', 'sunday', 'urged', 'budget', 'restraint', 'keeping', 'sharp', 'pivot', 'way', 'among', 'republicans', 'us', 'representative', 'mark', 'meadows', 'speaking', 'cbs', 'face', 'nation', 'drew', 'hard', 'line', 'federal', 'spending', 'lawmakers', 'bracing', 'battle', 'january', 'return', 'holidays', 'wednesday', 'lawmakers', 'begin', 'trying', 'pass', 'federal', 'budget', 'fight', 'likely', 'linked', 'issues', 'immigration', 'policy', 'even', 'november', 'congressional', 'election', 'campaigns', 'approach', 'republicans', 'seek', 'keep', 'control', 'congress', 'president', 'donald', 'trump', 'republicans', 'want', 'big', 'budget', 'increase', 'military', 'spending', 'democrats', 'also', 'want', 'proportional', 'increases', 'nondefense', 'discretionary', 'spending', 'programs', 'support', 'education', 'scientific', 'research', 'infrastructure', 'public', 'health', 'environmental', 'protection', 'trump', 'administration', 'already', 'willing', 'say', 'going', 'increase', 'nondefense', 'discretionary', 'spending', 'percent', 'meadows', 'chairman', 'small', 'influential', 'house', 'freedom', 'caucus', 'said', 'program', 'democrats', 'saying', 'thats', 'enough', 'need', 'give', 'government', 'pay', 'raise', 'percent', 'fiscal', 'conservative', 'dont', 'see', 'rationale', 'eventually', 'run', 'peoples', 'money', 'said', 'meadows', 'among', 'republicans', 'voted', 'late', 'december', 'partys', 'debtfinanced', 'tax', 'overhaul', 'expected', 'balloon', 'federal', 'budget', 'deficit', 'add', 'trillion', 'years', 'trillion', 'national', 'debt', 'interesting', 'hear', 'mark', 'talk', 'fiscal', 'responsibility', 'democratic', 'us', 'representative', 'joseph', 'crowley', 'said', 'cbs', 'crowley', 'said', 'republican', 'tax', 'bill', 'would', 'require', 'united', 'states', 'borrow', 'trillion', 'paid', 'future', 'generations', 'finance', 'tax', 'cuts', 'corporations', 'rich', 'one', 'least', 'fiscally', 'responsible', 'bills', 'weve', 'ever', 'seen', 'passed', 'history', 'house', 'representatives', 'think', 'going', 'paying', 'many', 'many', 'years', 'come', 'crowley', 'said', 'republicans', 'insist', 'tax', 'package', 'biggest', 'us', 'tax', 'overhaul', 'years', 'boost', 'economy', 'job', 'growth', 'house', 'speaker', 'paul', 'ryan', 'also', 'supported', 'tax', 'bill', 'recently', 'went', 'meadows', 'making', 'clear', 'radio', 'interview', 'welfare', 'entitlement', 'reform', 'party', 'often', 'calls', 'would', 'top', 'republican', 'priority', 'republican', 'parlance', 'entitlement', 'programs', 'mean', 'food', 'stamps', 'housing', 'assistance', 'medicare', 'medicaid', 'health', 'insurance', 'elderly', 'poor', 'disabled', 'well', 'programs', 'created', 'washington', 'assist', 'needy', 'democrats', 'seized', 'ryans', 'early', 'december', 'remarks', 'saying', 'showed', 'republicans', 'would', 'try', 'pay', 'tax', 'overhaul', 'seeking', 'spending', 'cuts', 'social', 'programs', 'goals', 'house', 'republicans', 'may', 'take', 'back', 'seat', 'senate', 'votes', 'democrats', 'needed', 'approve', 'budget', 'prevent', 'government', 'shutdown', 'democrats', 'use', 'leverage', 'senate', 'republicans', 'narrowly', 'control', 'defend', 'discretionary', 'nondefense', 'programs', 'social', 'spending', 'tackling', 'issue', 'dreamers', 'people', 'brought', 'illegally', 'country', 'children', 'trump', 'september', 'put', 'march', 'expiration', 'date', 'deferred', 'action', 'childhood', 'arrivals', 'daca', 'program', 'protects', 'young', 'immigrants', 'deportation', 'provides', 'work', 'permits', 'president', 'said', 'recent', 'twitter', 'messages', 'wants', 'funding', 'proposed', 'mexican', 'border', 'wall', 'immigration', 'law', 'changes', 'exchange', 'agreeing', 'help', 'dreamers', 'representative', 'debbie', 'dingell', 'told', 'cbs', 'favor', 'linking', 'issue', 'policy', 'objectives', 'wall', 'funding', 'need', 'daca', 'clean', 'said', 'wednesday', 'trump', 'aides', 'meet', 'congressional', 'leaders', 'discuss', 'issues', 'followed', 'weekend', 'strategy', 'sessions', 'trump', 'republican', 'leaders', 'jan', 'white', 'house', 'said', 'trump', 'also', 'scheduled', 'meet', 'sunday', 'florida', 'republican', 'governor', 'rick', 'scott', 'wants', 'emergency', 'aid', 'house', 'passed', 'billion', 'aid', 'package', 'hurricanes', 'florida', 'texas', 'puerto', 'rico', 'wildfires', 'california', 'package', 'far', 'exceeded', 'billion', 'requested', 'trump', 'administration', 'senate', 'yet', 'voted', 'aid'], ['transgender', 'people', 'allowed', 'first', 'time', 'enlist', 'us', 'military', 'starting', 'monday', 'ordered', 'federal', 'courts', 'pentagon', 'said', 'friday', 'president', 'donald', 'trumps', 'administration', 'decided', 'appeal', 'rulings', 'blocked', 'transgender', 'ban', 'two', 'federal', 'appeals', 'courts', 'one', 'washington', 'one', 'virginia', 'last', 'week', 'rejected', 'administrations', 'request', 'put', 'hold', 'orders', 'lower', 'court', 'judges', 'requiring', 'military', 'begin', 'accepting', 'transgender', 'recruits', 'jan', 'justice', 'department', 'official', 'said', 'administration', 'challenge', 'rulings', 'department', 'defense', 'announced', 'releasing', 'independent', 'study', 'issues', 'coming', 'weeks', 'rather', 'litigate', 'interim', 'appeal', 'occurs', 'administration', 'decided', 'wait', 'dods', 'study', 'continue', 'defend', 'presidents', 'lawful', 'authority', 'district', 'court', 'meantime', 'official', 'said', 'speaking', 'condition', 'anonymity', 'september', 'pentagon', 'said', 'created', 'panel', 'senior', 'officials', 'study', 'implement', 'directive', 'trump', 'prohibit', 'transgender', 'individuals', 'serving', 'defense', 'department', 'feb', 'submit', 'plan', 'trump', 'lawyers', 'representing', 'currentlyserving', 'transgender', 'service', 'members', 'aspiring', 'recruits', 'said', 'expected', 'administration', 'appeal', 'rulings', 'conservativemajority', 'supreme', 'court', 'hoping', 'would', 'happen', 'pentagon', 'spokeswoman', 'heather', 'babb', 'said', 'statement', 'mandated', 'court', 'order', 'department', 'defense', 'prepared', 'begin', 'accessing', 'transgender', 'applicants', 'military', 'service', 'jan', 'applicants', 'must', 'meet', 'accession', 'standards', 'jennifer', 'levi', 'lawyer', 'gay', 'lesbian', 'transgender', 'advocacy', 'group', 'glad', 'called', 'decision', 'appeal', 'great', 'news', 'im', 'hoping', 'means', 'government', 'come', 'see', 'way', 'justify', 'ban', 'good', 'military', 'country', 'levi', 'said', 'glad', 'american', 'civil', 'liberties', 'union', 'represent', 'plaintiffs', 'lawsuits', 'filed', 'administration', 'move', 'appealed', 'hardline', 'conservative', 'supporters', 'trump', 'announced', 'july', 'would', 'prohibit', 'transgender', 'people', 'serving', 'military', 'reversing', 'democratic', 'president', 'barack', 'obamas', 'policy', 'accepting', 'trump', 'said', 'twitter', 'time', 'military', 'cannot', 'burdened', 'tremendous', 'medical', 'costs', 'disruption', 'transgender', 'military', 'would', 'entail', 'four', 'federal', 'judges'], ['special', 'counsel', 'investigation', 'links', 'russia', 'president', 'trumps', 'election', 'campaign', 'continue', 'without', 'interference', 'despite', 'calls', 'trump', 'administration', 'allies', 'republican', 'lawmakers', 'shut', 'prominent', 'republican', 'senator', 'said', 'sunday', 'lindsey', 'graham', 'serves', 'senate', 'armed', 'forces', 'judiciary', 'committees', 'said', 'department', 'justice', 'special', 'counsel', 'robert', 'mueller', 'needs', 'carry', 'russia', 'investigation', 'without', 'political', 'interference', 'investigation', 'go', 'forward', 'investigation', 'conducted', 'without', 'political', 'influence', 'graham', 'said', 'cbss', 'face', 'nation', 'news', 'program', 'need', 'let', 'mr', 'mueller', 'job', 'think', 'hes', 'right', 'guy', 'right', 'time', 'question', 'russia', 'may', 'interfered', 'election', 'trumps', 'campaign', 'may', 'links', 'coordinated', 'effort', 'loomed', 'white', 'house', 'since', 'trump', 'took', 'office', 'january', 'shows', 'sign', 'receding', 'trump', 'prepares', 'second', 'year', 'power', 'despite', 'intensified', 'rhetoric', 'trump', 'allies', 'recent', 'weeks', 'accusing', 'muellers', 'team', 'bias', 'republican', 'president', 'trump', 'seemed', 'undercut', 'supporters', 'interview', 'last', 'week', 'new', 'york', 'times', 'said', 'expected', 'mueller', 'going', 'fair', 'russias', 'role', 'election', 'question', 'possible', 'links', 'trump', 'campaign', 'focus', 'multiple', 'inquiries', 'washington', 'three', 'committees', 'senate', 'house', 'representatives', 'investigating', 'well', 'mueller', 'whose', 'team', 'may', 'took', 'earlier', 'probe', 'launched', 'us', 'federal', 'bureau', 'investigation', 'fbi', 'several', 'members', 'trump', 'campaign', 'administration', 'convicted', 'indicted', 'investigation', 'trump', 'allies', 'deny', 'collusion', 'russia', 'campaign', 'kremlin', 'denied', 'meddling', 'election', 'graham', 'said', 'still', 'wants', 'examination', 'fbis', 'use', 'dossier', 'links', 'trump', 'russia', 'compiled', 'former', 'british', 'spy', 'christopher', 'steele', 'prompted', 'trump', 'allies', 'republicans', 'question', 'muellers', 'inquiry', 'saturday', 'new', 'york', 'times', 'reported', 'dossier', 'triggered', 'early', 'fbi', 'probe', 'tip', 'former', 'trump', 'campaign', 'foreign', 'policy', 'adviser', 'george', 'papadopoulos', 'australian', 'diplomat', 'russia', 'damaging', 'information', 'former', 'trump', 'rival', 'hillary', 'clinton', 'want', 'somebody', 'look', 'way', 'department', 'justice', 'used', 'dossier', 'bothers', 'greatly', 'way', 'used', 'want', 'somebody', 'look', 'graham', 'said', 'said', 'russia', 'investigation', 'must', 'continue', 'matter', 'fact', 'would', 'hurt', 'us', 'ignored', 'said'], ['trump', 'campaign', 'adviser', 'george', 'papadopoulos', 'told', 'australian', 'diplomat', 'may', 'russia', 'political', 'dirt', 'democratic', 'presidential', 'candidate', 'hillary', 'clinton', 'new', 'york', 'times', 'reported', 'saturday', 'conversation', 'papadopoulos', 'diplomat', 'alexander', 'downer', 'london', 'driving', 'factor', 'behind', 'fbis', 'decision', 'open', 'counterintelligence', 'investigation', 'moscows', 'contacts', 'trump', 'campaign', 'times', 'reported', 'two', 'months', 'meeting', 'australian', 'officials', 'passed', 'information', 'came', 'papadopoulos', 'american', 'counterparts', 'leaked', 'democratic', 'emails', 'began', 'appearing', 'online', 'according', 'newspaper', 'cited', 'four', 'current', 'former', 'us', 'foreign', 'officials', 'besides', 'information', 'australians', 'probe', 'federal', 'bureau', 'investigation', 'also', 'propelled', 'intelligence', 'friendly', 'governments', 'including', 'british', 'dutch', 'times', 'said', 'papadopoulos', 'chicagobased', 'international', 'energy', 'lawyer', 'pleaded', 'guilty', 'oct', 'lying', 'fbi', 'agents', 'contacts', 'people', 'claimed', 'ties', 'top', 'russian', 'officials', 'first', 'criminal', 'charge', 'alleging', 'links', 'trump', 'campaign', 'russia', 'white', 'house', 'played', 'former', 'aides', 'campaign', 'role', 'saying', 'extremely', 'limited', 'actions', 'took', 'would', 'new', 'york', 'times', 'however', 'reported', 'papadopoulos', 'helped', 'set', 'meeting', 'thencandidate', 'donald', 'trump', 'egyptian', 'president', 'abdel', 'fattah', 'alsisi', 'edited', 'outline', 'trumps', 'first', 'major', 'foreign', 'policy', 'speech', 'april', 'federal', 'investigation', 'led', 'special', 'counsel', 'robert', 'mueller', 'hung', 'trumps', 'white', 'house', 'since', 'took', 'office', 'almost', 'year', 'ago', 'trump', 'allies', 'recently', 'accused', 'muellers', 'team', 'biased', 'republican', 'president', 'lawyers', 'papadopoulos', 'immediately', 'respond', 'requests', 'reuters', 'comment', 'muellers', 'office', 'declined', 'comment', 'trumps', 'white', 'house', 'attorney', 'ty', 'cobb', 'declined', 'comment', 'new', 'york', 'times', 'report', 'respect', 'special', 'counsel', 'process', 'commenting', 'matters', 'said', 'statement', 'mueller', 'charged', 'four', 'trump', 'associates', 'including', 'papadopoulos', 'investigation', 'russia', 'denied', 'interfering', 'us', 'election', 'trump', 'said', 'collusion', 'campaign', 'moscow'], ['president', 'donald', 'trump', 'called', 'us', 'postal', 'service', 'friday', 'charge', 'much', 'ship', 'packages', 'amazon', 'amzno', 'picking', 'another', 'fight', 'online', 'retail', 'giant', 'criticized', 'past', 'united', 'states', 'post', 'office', 'losing', 'many', 'billions', 'dollars', 'year', 'charging', 'amazon', 'others', 'little', 'deliver', 'packages', 'making', 'amazon', 'richer', 'post', 'office', 'dumber', 'poorer', 'charging', 'much', 'trump', 'wrote', 'twitter', 'presidents', 'tweet', 'drew', 'fresh', 'attention', 'fragile', 'finances', 'postal', 'service', 'time', 'tens', 'millions', 'parcels', 'shipped', 'country', 'holiday', 'season', 'us', 'postal', 'service', 'runs', 'big', 'loss', 'independent', 'agency', 'within', 'federal', 'government', 'receive', 'tax', 'dollars', 'operating', 'expenses', 'according', 'website', 'package', 'delivery', 'become', 'increasingly', 'important', 'part', 'business', 'internet', 'led', 'sharp', 'decline', 'amount', 'firstclass', 'letters', 'president', 'determine', 'postal', 'rates', 'set', 'postal', 'regulatory', 'commission', 'independent', 'government', 'agency', 'commissioners', 'selected', 'president', 'political', 'parties', 'panel', 'raised', 'prices', 'packages', 'almost', 'percent', 'november', 'amazon', 'founded', 'jeff', 'bezos', 'remains', 'chief', 'executive', 'officer', 'retail', 'company', 'richest', 'person', 'world', 'according', 'bloomberg', 'news', 'bezos', 'also', 'owns', 'washington', 'post', 'newspaper', 'trump', 'repeatedly', 'railed', 'criticisms', 'news', 'media', 'tweets', 'past', 'year', 'trump', 'said', 'amazon', 'washington', 'post', 'fabricated', 'stories', 'said', 'amazon', 'pay', 'sales', 'tax', 'true', 'hurts', 'retailers', 'part', 'pattern', 'former', 'businessman', 'reality', 'television', 'host', 'periodically', 'turning', 'ire', 'big', 'american', 'companies', 'since', 'took', 'office', 'january', 'daniel', 'ives', 'research', 'analyst', 'gbh', 'insights', 'said', 'trumps', 'comment', 'could', 'taken', 'warning', 'retail', 'giant', 'however', 'said', 'concerned', 'amazon', 'see', 'price', 'hikes', 'future', 'however', 'risk', 'amazon', 'clearly', 'aware', 'building', 'distribution', 'system', 'aggressively', 'said', 'amazon', 'shown', 'interest', 'past', 'shifting', 'delivery', 'service', 'including', 'testing', 'drones', 'deliveries', 'company', 'spent', 'billion', 'shipping', 'percent', 'total', 'operating', 'expenses', 'year', 'amazon', 'shares', 'percent', 'early', 'afternoon', 'overall', 'us', 'stock', 'prices', 'slightly', 'friday', 'satish', 'jindel', 'president', 'shipmatrix', 'inc', 'analyzes', 'shipping', 'data', 'disputed', 'idea', 'postal', 'service', 'charges', 'less', 'united', 'parcel', 'service', 'inc', 'upsn', 'fedex', 'corp', 'fdxn', 'biggest', 'players', 'parcel', 'delivery', 'business', 'united', 'states', 'many', 'customers', 'get', 'lower', 'rates', 'ups', 'fedex', 'would', 'get', 'post', 'office', 'comparable', 'services', 'said', 'postal', 'service', 'delivers', 'percent', 'amazon', 'packages', 'million', 'day', 'current', 'peak', 'yearend', 'holiday', 'shipping', 'season', 'jindel', 'said', 'seattlebased', 'company', 'post', 'office', 'agreement', 'mail', 'carriers', 'take', 'amazon', 'packages', 'last', 'leg', 'journeys', 'post', 'offices', 'customers', 'doorsteps', 'amazons', 'carrier', 'ups', 'percent', 'fedex', 'third', 'percent', 'according', 'jindel', 'trumps', 'comment', 'tapped', 'debate', 'whether', 'postal', 'service', 'pricing', 'kept', 'pace', 'rise', 'ecommerce', 'flooded', 'mail', 'small', 'packagesprivate', 'companies', 'like', 'ups', 'long', 'claimed', 'current', 'system', 'unfairly', 'undercuts', 'business', 'steve', 'gaut', 'spokesman', 'ups', 'noted', 'company', 'values', 'productive', 'relationship', 'postal', 'service', 'filed', 'postal', 'regulatory', 'commission', 'concerns', 'postal', 'services', 'methods', 'covering', 'costs', 'representatives', 'amazon', 'white', 'house', 'us', 'postal', 'service', 'fedex', 'declined', 'comment', 'immediately', 'available', 'comment', 'trumps', 'tweet', 'according', 'annual', 'report', 'postal', 'service', 'lost', 'billion', 'year', 'deficit', 'ballooned', 'billion', 'postal', 'services', 'revenue', 'first', 'class', 'mail', 'marketing', 'mail', 'periodicals', 'flat', 'declining', 'revenue', 'package', 'delivery', 'percent', 'since', 'billion', 'fiscal', 'year', 'ended', 'sept', 'also', 'lost', 'billion', 'revenue', 'temporary', 'surcharge', 'expired', 'april', 'according', 'government', 'accountability', 'office', 'report', 'february', 'service', 'facing', 'growing', 'personnel', 'expenses', 'particularly', 'billion', 'unfunded', 'pension', 'benefits', 'liabilities', 'postal', 'service', 'announced', 'plans', 'cut', 'costs', 'law', 'postal', 'service', 'set', 'prices', 'package', 'delivery', 'cover', 'costs', 'attributable', 'service', 'postal', 'service', 'allocates', 'percent', 'total', 'costs', 'business', 'shipping', 'packages', 'even', 'though', 'line', 'business', 'percent', 'total', 'revenue'], ['white', 'house', 'said', 'friday', 'set', 'kick', 'talks', 'next', 'week', 'republican', 'democratic', 'congressional', 'leaders', 'immigration', 'policy', 'government', 'spending', 'issues', 'need', 'wrapped', 'early', 'new', 'year', 'expected', 'flurry', 'legislative', 'activity', 'comes', 'republicans', 'democrats', 'begin', 'set', 'stage', 'midterm', 'congressional', 'elections', 'november', 'president', 'donald', 'trumps', 'republican', 'party', 'eager', 'maintain', 'control', 'congress', 'democrats', 'look', 'openings', 'wrest', 'seats', 'away', 'senate', 'house', 'representatives', 'wednesday', 'trumps', 'budget', 'chief', 'mick', 'mulvaney', 'legislative', 'affairs', 'director', 'marc', 'short', 'meet', 'senate', 'majority', 'leader', 'mitch', 'mcconnell', 'house', 'speaker', 'paul', 'ryan'], ['president', 'donald', 'trump', 'said', 'thursday', 'believes', 'fairly', 'treated', 'special', 'counsel', 'investigation', 'russian', 'meddling', 'us', 'presidential', 'election', 'said', 'know', 'long', 'probe', 'would', 'last', 'federal', 'investigation', 'hung', 'trumps', 'white', 'house', 'since', 'took', 'office', 'almost', 'year', 'ago', 'trump', 'allies', 'recent', 'weeks', 'accused', 'team', 'justice', 'department', 'special', 'counsel', 'robert', 'mueller', 'biased', 'republican', 'president', 'interview', 'new', 'york', 'times', 'trump', 'appeared', 'shrug', 'concerns', 'investigation', 'prompted', 'us', 'intelligence', 'agencies', 'conclusion', 'russia', 'tried', 'help', 'trump', 'defeat', 'democrat', 'hillary', 'clinton', 'hacking', 'releasing', 'embarrassing', 'emails', 'disseminating', 'propaganda', 'theres', 'collusion', 'think', 'hes', 'going', 'fair', 'trump', 'said', 'times', 'described', 'minute', 'impromptu', 'interview', 'golf', 'club', 'west', 'palm', 'beach', 'florida', 'mueller', 'charged', 'four', 'trump', 'associates', 'investigation', 'russia', 'denied', 'interfering', 'us', 'election', 'us', 'deputy', 'attorney', 'general', 'rod', 'rosenstein', 'said', 'month', 'aware', 'impropriety', 'muellers', 'team', 'trumps', 'lawyers', 'saying', 'weeks', 'expected', 'mueller', 'investigation', 'wrap', 'quickly', 'possibly', 'end', 'mueller', 'commented', 'long', 'last', 'trump', 'told', 'times', 'know', 'long', 'investigation', 'would', 'take', 'timingwise', 'cant', 'tell', 'dont', 'know', 'said', 'trump', 'said', 'thought', 'prolonged', 'probe', 'makes', 'country', 'look', 'bad', 'said', 'energized', 'core', 'supporters', 'done', 'really', 'angered', 'base', 'made', 'base', 'stronger', 'base', 'strong', 'ever', 'said', 'interview', 'rare', 'break', 'trumps', 'christmas', 'vacation', 'florida', 'golfed', 'day', 'aside', 'christmas', 'day', 'mainly', 'kept', 'low', 'profile', 'apart', 'occasional', 'flurry', 'tweets', 'spent', 'one', 'day', 'golfing', 'republican', 'senator', 'david', 'perdue', 'georgia', 'pushed', 'legislation', 'cap', 'immigration', 'numbers', 'dinner', 'thursday', 'commerce', 'secretary', 'wilbur', 'ross', 'international', 'trade', 'hawk', 'trump', 'told', 'times', 'hoped', 'work', 'democrats', 'us', 'congress', 'spending', 'plan', 'fix', 'roads', 'infrastructure', 'protections', 'group', 'undocumented', 'immigrants', 'brought', 'united', 'states', 'children', 'trump', 'spoke', 'trade', 'issues', 'saying', 'backed', 'hard', 'line', 'chinese', 'trade', 'practices', 'hope', 'beijing', 'would', 'pressure', 'north', 'korea', 'end', 'nuclear', 'missile', 'testing', 'program', 'said', 'disappointed', 'results', 'also', 'complained', 'north', 'american', 'free', 'trade', 'agreement', 'nafta', 'administration', 'attempting', 'renegotiate', 'talks', 'mexico', 'canada', 'trump', 'said', 'canadian', 'prime', 'minister', 'justin', 'trudeau', 'played', 'importance', 'canadian', 'oil', 'lumber', 'exports', 'united', 'states', 'looking', 'balance', 'trade', 'two', 'countries', 'dont', 'make', 'right', 'deal', 'ill', 'terminate', 'nafta', 'two', 'seconds', 'pretty', 'good', 'trump', 'said'], ['fake', 'news', 'loves', 'talk', 'socalled', 'low', 'approval', 'rating', 'foxandfriends', 'showed', 'rating', 'dec', 'approximately', 'president', 'obama', 'dec', 'despite', 'massive', 'negative', 'trump', 'coverage', 'russia', 'hoax', 'est'], ['together', 'making', 'america', 'great', 'bitlylnpkaq', 'est'], ['alabama', 'secretary', 'state', 'john', 'merrill', 'said', 'certify', 'democratic', 'senatorelect', 'doug', 'jones', 'winner', 'thursday', 'despite', 'opponent', 'roy', 'moores', 'challenge', 'phone', 'call', 'cnn', 'moore', 'conservative', 'faced', 'allegations', 'groping', 'teenage', 'girls', 'filed', 'court', 'challenge', 'late', 'wednesday', 'outcome', 'us', 'senate', 'election', 'unexpectedly', 'lost']]\n"
          ]
        }
      ]
    },
    {
      "cell_type": "markdown",
      "source": [
        "Stemming or Lemmatization (better use Lemmatization?)"
      ],
      "metadata": {
        "id": "J7kLt4qsNF32"
      }
    },
    {
      "cell_type": "code",
      "source": [
        "from nltk.stem import WordNetLemmatizer"
      ],
      "metadata": {
        "id": "rjsjLeBCGWxK"
      },
      "execution_count": 15,
      "outputs": []
    },
    {
      "cell_type": "code",
      "source": [
        "nltk.download('wordnet')"
      ],
      "metadata": {
        "colab": {
          "base_uri": "https://localhost:8080/"
        },
        "id": "PaCfMYuYKmsG",
        "outputId": "7988e5f9-78fc-4a6d-9d2b-d5a80a35f6a0"
      },
      "execution_count": 16,
      "outputs": [
        {
          "output_type": "stream",
          "name": "stderr",
          "text": [
            "[nltk_data] Downloading package wordnet to /root/nltk_data...\n",
            "[nltk_data]   Package wordnet is already up-to-date!\n"
          ]
        },
        {
          "output_type": "execute_result",
          "data": {
            "text/plain": [
              "True"
            ]
          },
          "metadata": {},
          "execution_count": 16
        }
      ]
    },
    {
      "cell_type": "code",
      "source": [
        "lemmatizer = WordNetLemmatizer()\n",
        "lemmatized_X = []\n",
        "for paragraph in X:\n",
        "    lemmatized_paragraph = [lemmatizer.lemmatize(word) for word in paragraph]\n",
        "    lemmatized_X.append(lemmatized_paragraph)"
      ],
      "metadata": {
        "id": "JgPqO7r5HldO"
      },
      "execution_count": 17,
      "outputs": []
    },
    {
      "cell_type": "code",
      "source": [
        "print(lemmatized_X[:10])\n",
        "type(lemmatized_X)"
      ],
      "metadata": {
        "colab": {
          "base_uri": "https://localhost:8080/"
        },
        "id": "bQ5eowuJLnwe",
        "outputId": "c799991b-697a-444a-c7d4-c5fa98f833e7"
      },
      "execution_count": 18,
      "outputs": [
        {
          "output_type": "stream",
          "name": "stdout",
          "text": [
            "[['head', 'conservative', 'republican', 'faction', 'u', 'congress', 'voted', 'month', 'huge', 'expansion', 'national', 'debt', 'pay', 'tax', 'cut', 'called', 'fiscal', 'conservative', 'sunday', 'urged', 'budget', 'restraint', 'keeping', 'sharp', 'pivot', 'way', 'among', 'republican', 'u', 'representative', 'mark', 'meadow', 'speaking', 'cbs', 'face', 'nation', 'drew', 'hard', 'line', 'federal', 'spending', 'lawmaker', 'bracing', 'battle', 'january', 'return', 'holiday', 'wednesday', 'lawmaker', 'begin', 'trying', 'pas', 'federal', 'budget', 'fight', 'likely', 'linked', 'issue', 'immigration', 'policy', 'even', 'november', 'congressional', 'election', 'campaign', 'approach', 'republican', 'seek', 'keep', 'control', 'congress', 'president', 'donald', 'trump', 'republican', 'want', 'big', 'budget', 'increase', 'military', 'spending', 'democrat', 'also', 'want', 'proportional', 'increase', 'nondefense', 'discretionary', 'spending', 'program', 'support', 'education', 'scientific', 'research', 'infrastructure', 'public', 'health', 'environmental', 'protection', 'trump', 'administration', 'already', 'willing', 'say', 'going', 'increase', 'nondefense', 'discretionary', 'spending', 'percent', 'meadow', 'chairman', 'small', 'influential', 'house', 'freedom', 'caucus', 'said', 'program', 'democrat', 'saying', 'thats', 'enough', 'need', 'give', 'government', 'pay', 'raise', 'percent', 'fiscal', 'conservative', 'dont', 'see', 'rationale', 'eventually', 'run', 'people', 'money', 'said', 'meadow', 'among', 'republican', 'voted', 'late', 'december', 'party', 'debtfinanced', 'tax', 'overhaul', 'expected', 'balloon', 'federal', 'budget', 'deficit', 'add', 'trillion', 'year', 'trillion', 'national', 'debt', 'interesting', 'hear', 'mark', 'talk', 'fiscal', 'responsibility', 'democratic', 'u', 'representative', 'joseph', 'crowley', 'said', 'cbs', 'crowley', 'said', 'republican', 'tax', 'bill', 'would', 'require', 'united', 'state', 'borrow', 'trillion', 'paid', 'future', 'generation', 'finance', 'tax', 'cut', 'corporation', 'rich', 'one', 'least', 'fiscally', 'responsible', 'bill', 'weve', 'ever', 'seen', 'passed', 'history', 'house', 'representative', 'think', 'going', 'paying', 'many', 'many', 'year', 'come', 'crowley', 'said', 'republican', 'insist', 'tax', 'package', 'biggest', 'u', 'tax', 'overhaul', 'year', 'boost', 'economy', 'job', 'growth', 'house', 'speaker', 'paul', 'ryan', 'also', 'supported', 'tax', 'bill', 'recently', 'went', 'meadow', 'making', 'clear', 'radio', 'interview', 'welfare', 'entitlement', 'reform', 'party', 'often', 'call', 'would', 'top', 'republican', 'priority', 'republican', 'parlance', 'entitlement', 'program', 'mean', 'food', 'stamp', 'housing', 'assistance', 'medicare', 'medicaid', 'health', 'insurance', 'elderly', 'poor', 'disabled', 'well', 'program', 'created', 'washington', 'assist', 'needy', 'democrat', 'seized', 'ryans', 'early', 'december', 'remark', 'saying', 'showed', 'republican', 'would', 'try', 'pay', 'tax', 'overhaul', 'seeking', 'spending', 'cut', 'social', 'program', 'goal', 'house', 'republican', 'may', 'take', 'back', 'seat', 'senate', 'vote', 'democrat', 'needed', 'approve', 'budget', 'prevent', 'government', 'shutdown', 'democrat', 'use', 'leverage', 'senate', 'republican', 'narrowly', 'control', 'defend', 'discretionary', 'nondefense', 'program', 'social', 'spending', 'tackling', 'issue', 'dreamer', 'people', 'brought', 'illegally', 'country', 'child', 'trump', 'september', 'put', 'march', 'expiration', 'date', 'deferred', 'action', 'childhood', 'arrival', 'daca', 'program', 'protects', 'young', 'immigrant', 'deportation', 'provides', 'work', 'permit', 'president', 'said', 'recent', 'twitter', 'message', 'want', 'funding', 'proposed', 'mexican', 'border', 'wall', 'immigration', 'law', 'change', 'exchange', 'agreeing', 'help', 'dreamer', 'representative', 'debbie', 'dingell', 'told', 'cbs', 'favor', 'linking', 'issue', 'policy', 'objective', 'wall', 'funding', 'need', 'daca', 'clean', 'said', 'wednesday', 'trump', 'aide', 'meet', 'congressional', 'leader', 'discus', 'issue', 'followed', 'weekend', 'strategy', 'session', 'trump', 'republican', 'leader', 'jan', 'white', 'house', 'said', 'trump', 'also', 'scheduled', 'meet', 'sunday', 'florida', 'republican', 'governor', 'rick', 'scott', 'want', 'emergency', 'aid', 'house', 'passed', 'billion', 'aid', 'package', 'hurricane', 'florida', 'texas', 'puerto', 'rico', 'wildfire', 'california', 'package', 'far', 'exceeded', 'billion', 'requested', 'trump', 'administration', 'senate', 'yet', 'voted', 'aid'], ['transgender', 'people', 'allowed', 'first', 'time', 'enlist', 'u', 'military', 'starting', 'monday', 'ordered', 'federal', 'court', 'pentagon', 'said', 'friday', 'president', 'donald', 'trump', 'administration', 'decided', 'appeal', 'ruling', 'blocked', 'transgender', 'ban', 'two', 'federal', 'appeal', 'court', 'one', 'washington', 'one', 'virginia', 'last', 'week', 'rejected', 'administration', 'request', 'put', 'hold', 'order', 'lower', 'court', 'judge', 'requiring', 'military', 'begin', 'accepting', 'transgender', 'recruit', 'jan', 'justice', 'department', 'official', 'said', 'administration', 'challenge', 'ruling', 'department', 'defense', 'announced', 'releasing', 'independent', 'study', 'issue', 'coming', 'week', 'rather', 'litigate', 'interim', 'appeal', 'occurs', 'administration', 'decided', 'wait', 'dod', 'study', 'continue', 'defend', 'president', 'lawful', 'authority', 'district', 'court', 'meantime', 'official', 'said', 'speaking', 'condition', 'anonymity', 'september', 'pentagon', 'said', 'created', 'panel', 'senior', 'official', 'study', 'implement', 'directive', 'trump', 'prohibit', 'transgender', 'individual', 'serving', 'defense', 'department', 'feb', 'submit', 'plan', 'trump', 'lawyer', 'representing', 'currentlyserving', 'transgender', 'service', 'member', 'aspiring', 'recruit', 'said', 'expected', 'administration', 'appeal', 'ruling', 'conservativemajority', 'supreme', 'court', 'hoping', 'would', 'happen', 'pentagon', 'spokeswoman', 'heather', 'babb', 'said', 'statement', 'mandated', 'court', 'order', 'department', 'defense', 'prepared', 'begin', 'accessing', 'transgender', 'applicant', 'military', 'service', 'jan', 'applicant', 'must', 'meet', 'accession', 'standard', 'jennifer', 'levi', 'lawyer', 'gay', 'lesbian', 'transgender', 'advocacy', 'group', 'glad', 'called', 'decision', 'appeal', 'great', 'news', 'im', 'hoping', 'mean', 'government', 'come', 'see', 'way', 'justify', 'ban', 'good', 'military', 'country', 'levi', 'said', 'glad', 'american', 'civil', 'liberty', 'union', 'represent', 'plaintiff', 'lawsuit', 'filed', 'administration', 'move', 'appealed', 'hardline', 'conservative', 'supporter', 'trump', 'announced', 'july', 'would', 'prohibit', 'transgender', 'people', 'serving', 'military', 'reversing', 'democratic', 'president', 'barack', 'obamas', 'policy', 'accepting', 'trump', 'said', 'twitter', 'time', 'military', 'cannot', 'burdened', 'tremendous', 'medical', 'cost', 'disruption', 'transgender', 'military', 'would', 'entail', 'four', 'federal', 'judge'], ['special', 'counsel', 'investigation', 'link', 'russia', 'president', 'trump', 'election', 'campaign', 'continue', 'without', 'interference', 'despite', 'call', 'trump', 'administration', 'ally', 'republican', 'lawmaker', 'shut', 'prominent', 'republican', 'senator', 'said', 'sunday', 'lindsey', 'graham', 'serf', 'senate', 'armed', 'force', 'judiciary', 'committee', 'said', 'department', 'justice', 'special', 'counsel', 'robert', 'mueller', 'need', 'carry', 'russia', 'investigation', 'without', 'political', 'interference', 'investigation', 'go', 'forward', 'investigation', 'conducted', 'without', 'political', 'influence', 'graham', 'said', 'cbss', 'face', 'nation', 'news', 'program', 'need', 'let', 'mr', 'mueller', 'job', 'think', 'he', 'right', 'guy', 'right', 'time', 'question', 'russia', 'may', 'interfered', 'election', 'trump', 'campaign', 'may', 'link', 'coordinated', 'effort', 'loomed', 'white', 'house', 'since', 'trump', 'took', 'office', 'january', 'show', 'sign', 'receding', 'trump', 'prepares', 'second', 'year', 'power', 'despite', 'intensified', 'rhetoric', 'trump', 'ally', 'recent', 'week', 'accusing', 'muellers', 'team', 'bias', 'republican', 'president', 'trump', 'seemed', 'undercut', 'supporter', 'interview', 'last', 'week', 'new', 'york', 'time', 'said', 'expected', 'mueller', 'going', 'fair', 'russia', 'role', 'election', 'question', 'possible', 'link', 'trump', 'campaign', 'focus', 'multiple', 'inquiry', 'washington', 'three', 'committee', 'senate', 'house', 'representative', 'investigating', 'well', 'mueller', 'whose', 'team', 'may', 'took', 'earlier', 'probe', 'launched', 'u', 'federal', 'bureau', 'investigation', 'fbi', 'several', 'member', 'trump', 'campaign', 'administration', 'convicted', 'indicted', 'investigation', 'trump', 'ally', 'deny', 'collusion', 'russia', 'campaign', 'kremlin', 'denied', 'meddling', 'election', 'graham', 'said', 'still', 'want', 'examination', 'fbi', 'use', 'dossier', 'link', 'trump', 'russia', 'compiled', 'former', 'british', 'spy', 'christopher', 'steele', 'prompted', 'trump', 'ally', 'republican', 'question', 'muellers', 'inquiry', 'saturday', 'new', 'york', 'time', 'reported', 'dossier', 'triggered', 'early', 'fbi', 'probe', 'tip', 'former', 'trump', 'campaign', 'foreign', 'policy', 'adviser', 'george', 'papadopoulos', 'australian', 'diplomat', 'russia', 'damaging', 'information', 'former', 'trump', 'rival', 'hillary', 'clinton', 'want', 'somebody', 'look', 'way', 'department', 'justice', 'used', 'dossier', 'bother', 'greatly', 'way', 'used', 'want', 'somebody', 'look', 'graham', 'said', 'said', 'russia', 'investigation', 'must', 'continue', 'matter', 'fact', 'would', 'hurt', 'u', 'ignored', 'said'], ['trump', 'campaign', 'adviser', 'george', 'papadopoulos', 'told', 'australian', 'diplomat', 'may', 'russia', 'political', 'dirt', 'democratic', 'presidential', 'candidate', 'hillary', 'clinton', 'new', 'york', 'time', 'reported', 'saturday', 'conversation', 'papadopoulos', 'diplomat', 'alexander', 'downer', 'london', 'driving', 'factor', 'behind', 'fbi', 'decision', 'open', 'counterintelligence', 'investigation', 'moscow', 'contact', 'trump', 'campaign', 'time', 'reported', 'two', 'month', 'meeting', 'australian', 'official', 'passed', 'information', 'came', 'papadopoulos', 'american', 'counterpart', 'leaked', 'democratic', 'email', 'began', 'appearing', 'online', 'according', 'newspaper', 'cited', 'four', 'current', 'former', 'u', 'foreign', 'official', 'besides', 'information', 'australian', 'probe', 'federal', 'bureau', 'investigation', 'also', 'propelled', 'intelligence', 'friendly', 'government', 'including', 'british', 'dutch', 'time', 'said', 'papadopoulos', 'chicagobased', 'international', 'energy', 'lawyer', 'pleaded', 'guilty', 'oct', 'lying', 'fbi', 'agent', 'contact', 'people', 'claimed', 'tie', 'top', 'russian', 'official', 'first', 'criminal', 'charge', 'alleging', 'link', 'trump', 'campaign', 'russia', 'white', 'house', 'played', 'former', 'aide', 'campaign', 'role', 'saying', 'extremely', 'limited', 'action', 'took', 'would', 'new', 'york', 'time', 'however', 'reported', 'papadopoulos', 'helped', 'set', 'meeting', 'thencandidate', 'donald', 'trump', 'egyptian', 'president', 'abdel', 'fattah', 'alsisi', 'edited', 'outline', 'trump', 'first', 'major', 'foreign', 'policy', 'speech', 'april', 'federal', 'investigation', 'led', 'special', 'counsel', 'robert', 'mueller', 'hung', 'trump', 'white', 'house', 'since', 'took', 'office', 'almost', 'year', 'ago', 'trump', 'ally', 'recently', 'accused', 'muellers', 'team', 'biased', 'republican', 'president', 'lawyer', 'papadopoulos', 'immediately', 'respond', 'request', 'reuters', 'comment', 'muellers', 'office', 'declined', 'comment', 'trump', 'white', 'house', 'attorney', 'ty', 'cobb', 'declined', 'comment', 'new', 'york', 'time', 'report', 'respect', 'special', 'counsel', 'process', 'commenting', 'matter', 'said', 'statement', 'mueller', 'charged', 'four', 'trump', 'associate', 'including', 'papadopoulos', 'investigation', 'russia', 'denied', 'interfering', 'u', 'election', 'trump', 'said', 'collusion', 'campaign', 'moscow'], ['president', 'donald', 'trump', 'called', 'u', 'postal', 'service', 'friday', 'charge', 'much', 'ship', 'package', 'amazon', 'amzno', 'picking', 'another', 'fight', 'online', 'retail', 'giant', 'criticized', 'past', 'united', 'state', 'post', 'office', 'losing', 'many', 'billion', 'dollar', 'year', 'charging', 'amazon', 'others', 'little', 'deliver', 'package', 'making', 'amazon', 'richer', 'post', 'office', 'dumber', 'poorer', 'charging', 'much', 'trump', 'wrote', 'twitter', 'president', 'tweet', 'drew', 'fresh', 'attention', 'fragile', 'finance', 'postal', 'service', 'time', 'ten', 'million', 'parcel', 'shipped', 'country', 'holiday', 'season', 'u', 'postal', 'service', 'run', 'big', 'loss', 'independent', 'agency', 'within', 'federal', 'government', 'receive', 'tax', 'dollar', 'operating', 'expense', 'according', 'website', 'package', 'delivery', 'become', 'increasingly', 'important', 'part', 'business', 'internet', 'led', 'sharp', 'decline', 'amount', 'firstclass', 'letter', 'president', 'determine', 'postal', 'rate', 'set', 'postal', 'regulatory', 'commission', 'independent', 'government', 'agency', 'commissioner', 'selected', 'president', 'political', 'party', 'panel', 'raised', 'price', 'package', 'almost', 'percent', 'november', 'amazon', 'founded', 'jeff', 'bezos', 'remains', 'chief', 'executive', 'officer', 'retail', 'company', 'richest', 'person', 'world', 'according', 'bloomberg', 'news', 'bezos', 'also', 'owns', 'washington', 'post', 'newspaper', 'trump', 'repeatedly', 'railed', 'criticism', 'news', 'medium', 'tweet', 'past', 'year', 'trump', 'said', 'amazon', 'washington', 'post', 'fabricated', 'story', 'said', 'amazon', 'pay', 'sale', 'tax', 'true', 'hurt', 'retailer', 'part', 'pattern', 'former', 'businessman', 'reality', 'television', 'host', 'periodically', 'turning', 'ire', 'big', 'american', 'company', 'since', 'took', 'office', 'january', 'daniel', 'ives', 'research', 'analyst', 'gbh', 'insight', 'said', 'trump', 'comment', 'could', 'taken', 'warning', 'retail', 'giant', 'however', 'said', 'concerned', 'amazon', 'see', 'price', 'hike', 'future', 'however', 'risk', 'amazon', 'clearly', 'aware', 'building', 'distribution', 'system', 'aggressively', 'said', 'amazon', 'shown', 'interest', 'past', 'shifting', 'delivery', 'service', 'including', 'testing', 'drone', 'delivery', 'company', 'spent', 'billion', 'shipping', 'percent', 'total', 'operating', 'expense', 'year', 'amazon', 'share', 'percent', 'early', 'afternoon', 'overall', 'u', 'stock', 'price', 'slightly', 'friday', 'satish', 'jindel', 'president', 'shipmatrix', 'inc', 'analyzes', 'shipping', 'data', 'disputed', 'idea', 'postal', 'service', 'charge', 'le', 'united', 'parcel', 'service', 'inc', 'upsn', 'fedex', 'corp', 'fdxn', 'biggest', 'player', 'parcel', 'delivery', 'business', 'united', 'state', 'many', 'customer', 'get', 'lower', 'rate', 'ups', 'fedex', 'would', 'get', 'post', 'office', 'comparable', 'service', 'said', 'postal', 'service', 'delivers', 'percent', 'amazon', 'package', 'million', 'day', 'current', 'peak', 'yearend', 'holiday', 'shipping', 'season', 'jindel', 'said', 'seattlebased', 'company', 'post', 'office', 'agreement', 'mail', 'carrier', 'take', 'amazon', 'package', 'last', 'leg', 'journey', 'post', 'office', 'customer', 'doorstep', 'amazon', 'carrier', 'ups', 'percent', 'fedex', 'third', 'percent', 'according', 'jindel', 'trump', 'comment', 'tapped', 'debate', 'whether', 'postal', 'service', 'pricing', 'kept', 'pace', 'rise', 'ecommerce', 'flooded', 'mail', 'small', 'packagesprivate', 'company', 'like', 'ups', 'long', 'claimed', 'current', 'system', 'unfairly', 'undercut', 'business', 'steve', 'gaut', 'spokesman', 'ups', 'noted', 'company', 'value', 'productive', 'relationship', 'postal', 'service', 'filed', 'postal', 'regulatory', 'commission', 'concern', 'postal', 'service', 'method', 'covering', 'cost', 'representative', 'amazon', 'white', 'house', 'u', 'postal', 'service', 'fedex', 'declined', 'comment', 'immediately', 'available', 'comment', 'trump', 'tweet', 'according', 'annual', 'report', 'postal', 'service', 'lost', 'billion', 'year', 'deficit', 'ballooned', 'billion', 'postal', 'service', 'revenue', 'first', 'class', 'mail', 'marketing', 'mail', 'periodical', 'flat', 'declining', 'revenue', 'package', 'delivery', 'percent', 'since', 'billion', 'fiscal', 'year', 'ended', 'sept', 'also', 'lost', 'billion', 'revenue', 'temporary', 'surcharge', 'expired', 'april', 'according', 'government', 'accountability', 'office', 'report', 'february', 'service', 'facing', 'growing', 'personnel', 'expense', 'particularly', 'billion', 'unfunded', 'pension', 'benefit', 'liability', 'postal', 'service', 'announced', 'plan', 'cut', 'cost', 'law', 'postal', 'service', 'set', 'price', 'package', 'delivery', 'cover', 'cost', 'attributable', 'service', 'postal', 'service', 'allocates', 'percent', 'total', 'cost', 'business', 'shipping', 'package', 'even', 'though', 'line', 'business', 'percent', 'total', 'revenue'], ['white', 'house', 'said', 'friday', 'set', 'kick', 'talk', 'next', 'week', 'republican', 'democratic', 'congressional', 'leader', 'immigration', 'policy', 'government', 'spending', 'issue', 'need', 'wrapped', 'early', 'new', 'year', 'expected', 'flurry', 'legislative', 'activity', 'come', 'republican', 'democrat', 'begin', 'set', 'stage', 'midterm', 'congressional', 'election', 'november', 'president', 'donald', 'trump', 'republican', 'party', 'eager', 'maintain', 'control', 'congress', 'democrat', 'look', 'opening', 'wrest', 'seat', 'away', 'senate', 'house', 'representative', 'wednesday', 'trump', 'budget', 'chief', 'mick', 'mulvaney', 'legislative', 'affair', 'director', 'marc', 'short', 'meet', 'senate', 'majority', 'leader', 'mitch', 'mcconnell', 'house', 'speaker', 'paul', 'ryan'], ['president', 'donald', 'trump', 'said', 'thursday', 'belief', 'fairly', 'treated', 'special', 'counsel', 'investigation', 'russian', 'meddling', 'u', 'presidential', 'election', 'said', 'know', 'long', 'probe', 'would', 'last', 'federal', 'investigation', 'hung', 'trump', 'white', 'house', 'since', 'took', 'office', 'almost', 'year', 'ago', 'trump', 'ally', 'recent', 'week', 'accused', 'team', 'justice', 'department', 'special', 'counsel', 'robert', 'mueller', 'biased', 'republican', 'president', 'interview', 'new', 'york', 'time', 'trump', 'appeared', 'shrug', 'concern', 'investigation', 'prompted', 'u', 'intelligence', 'agency', 'conclusion', 'russia', 'tried', 'help', 'trump', 'defeat', 'democrat', 'hillary', 'clinton', 'hacking', 'releasing', 'embarrassing', 'email', 'disseminating', 'propaganda', 'there', 'collusion', 'think', 'he', 'going', 'fair', 'trump', 'said', 'time', 'described', 'minute', 'impromptu', 'interview', 'golf', 'club', 'west', 'palm', 'beach', 'florida', 'mueller', 'charged', 'four', 'trump', 'associate', 'investigation', 'russia', 'denied', 'interfering', 'u', 'election', 'u', 'deputy', 'attorney', 'general', 'rod', 'rosenstein', 'said', 'month', 'aware', 'impropriety', 'muellers', 'team', 'trump', 'lawyer', 'saying', 'week', 'expected', 'mueller', 'investigation', 'wrap', 'quickly', 'possibly', 'end', 'mueller', 'commented', 'long', 'last', 'trump', 'told', 'time', 'know', 'long', 'investigation', 'would', 'take', 'timingwise', 'cant', 'tell', 'dont', 'know', 'said', 'trump', 'said', 'thought', 'prolonged', 'probe', 'make', 'country', 'look', 'bad', 'said', 'energized', 'core', 'supporter', 'done', 'really', 'angered', 'base', 'made', 'base', 'stronger', 'base', 'strong', 'ever', 'said', 'interview', 'rare', 'break', 'trump', 'christmas', 'vacation', 'florida', 'golfed', 'day', 'aside', 'christmas', 'day', 'mainly', 'kept', 'low', 'profile', 'apart', 'occasional', 'flurry', 'tweet', 'spent', 'one', 'day', 'golfing', 'republican', 'senator', 'david', 'perdue', 'georgia', 'pushed', 'legislation', 'cap', 'immigration', 'number', 'dinner', 'thursday', 'commerce', 'secretary', 'wilbur', 'ross', 'international', 'trade', 'hawk', 'trump', 'told', 'time', 'hoped', 'work', 'democrat', 'u', 'congress', 'spending', 'plan', 'fix', 'road', 'infrastructure', 'protection', 'group', 'undocumented', 'immigrant', 'brought', 'united', 'state', 'child', 'trump', 'spoke', 'trade', 'issue', 'saying', 'backed', 'hard', 'line', 'chinese', 'trade', 'practice', 'hope', 'beijing', 'would', 'pressure', 'north', 'korea', 'end', 'nuclear', 'missile', 'testing', 'program', 'said', 'disappointed', 'result', 'also', 'complained', 'north', 'american', 'free', 'trade', 'agreement', 'nafta', 'administration', 'attempting', 'renegotiate', 'talk', 'mexico', 'canada', 'trump', 'said', 'canadian', 'prime', 'minister', 'justin', 'trudeau', 'played', 'importance', 'canadian', 'oil', 'lumber', 'export', 'united', 'state', 'looking', 'balance', 'trade', 'two', 'country', 'dont', 'make', 'right', 'deal', 'ill', 'terminate', 'nafta', 'two', 'second', 'pretty', 'good', 'trump', 'said'], ['fake', 'news', 'love', 'talk', 'socalled', 'low', 'approval', 'rating', 'foxandfriends', 'showed', 'rating', 'dec', 'approximately', 'president', 'obama', 'dec', 'despite', 'massive', 'negative', 'trump', 'coverage', 'russia', 'hoax', 'est'], ['together', 'making', 'america', 'great', 'bitlylnpkaq', 'est'], ['alabama', 'secretary', 'state', 'john', 'merrill', 'said', 'certify', 'democratic', 'senatorelect', 'doug', 'jones', 'winner', 'thursday', 'despite', 'opponent', 'roy', 'moore', 'challenge', 'phone', 'call', 'cnn', 'moore', 'conservative', 'faced', 'allegation', 'groping', 'teenage', 'girl', 'filed', 'court', 'challenge', 'late', 'wednesday', 'outcome', 'u', 'senate', 'election', 'unexpectedly', 'lost']]\n"
          ]
        },
        {
          "output_type": "execute_result",
          "data": {
            "text/plain": [
              "list"
            ]
          },
          "metadata": {},
          "execution_count": 18
        }
      ]
    },
    {
      "cell_type": "markdown",
      "source": [
        "Vectorization and Test the performance a bit"
      ],
      "metadata": {
        "id": "5yXsttZCUmQD"
      }
    },
    {
      "cell_type": "code",
      "source": [
        "#testing performance a bit\n",
        "from sklearn.feature_extraction.text import TfidfVectorizer\n",
        "from sklearn.linear_model import LogisticRegression\n",
        "#from sklearn.metrics import accuracy_score\n",
        "#from sklearn.model_selection import train_test_split\n",
        "\n",
        "# Convert the preprocessed data to strings for input to the vectorizer\n",
        "X_strLemm = [' '.join(paragraph) for paragraph in lemmatized_X]\n",
        "\n",
        "# Vectorize the text data using the TF-IDF method\n",
        "vectorizer = TfidfVectorizer()\n",
        "X_vecLemm = vectorizer.fit_transform(X_strLemm)\n"
      ],
      "metadata": {
        "id": "Q1v6QADERwfa"
      },
      "execution_count": 19,
      "outputs": []
    },
    {
      "cell_type": "code",
      "source": [
        "from collections import Counter\n",
        "\n",
        "# Concatenate all the text into one string\n",
        "all_text = ' '.join(X_strLemm)\n",
        "\n",
        "# Split the text into individual words\n",
        "words = all_text.split()\n",
        "\n",
        "# Count the frequency of each word using Counter\n",
        "word_counts = Counter(words)\n",
        "\n",
        "# Get the most common words\n",
        "top_words = word_counts.most_common(30)\n",
        "\n",
        "# Create a bar chart of the top words\n",
        "labels, values = zip(*top_words)\n",
        "indexes = range(len(labels))\n",
        "plt.bar(indexes, values)\n",
        "plt.xticks(indexes, labels, rotation='vertical')\n",
        "plt.show()\n"
      ],
      "metadata": {
        "colab": {
          "base_uri": "https://localhost:8080/",
          "height": 500
        },
        "id": "AnFkr64MjFA6",
        "outputId": "d0f27ba1-2848-485e-dd22-23108b7233f6"
      },
      "execution_count": 27,
      "outputs": [
        {
          "output_type": "display_data",
          "data": {
            "text/plain": [
              "<Figure size 640x480 with 1 Axes>"
            ],
            "image/png": "[encoded data removed]"
          },
          "metadata": {}
        }
      ]
    },
    {
      "cell_type": "code",
      "source": [
        "import nltk\n",
        "from nltk.util import ngrams\n",
        "\n",
        "# Tokenize the text and generate a list of unigrams, bigrams, and trigrams\n",
        "tokens = nltk.word_tokenize(all_text)\n",
        "unigrams = ngrams(tokens, 1)\n",
        "bigrams = ngrams(tokens, 2)\n",
        "trigrams = ngrams(tokens, 3)\n",
        "\n",
        "# Print the top 10 most common bigrams\n",
        "freq_dist = nltk.FreqDist(bigrams)\n",
        "print(freq_dist.most_common(10))"
      ],
      "metadata": {
        "colab": {
          "base_uri": "https://localhost:8080/"
        },
        "id": "oZXn9vEtkFdN",
        "outputId": "eced68a6-2b27-40f8-8812-ecac91573eab"
      },
      "execution_count": 28,
      "outputs": [
        {
          "output_type": "stream",
          "name": "stdout",
          "text": [
            "[(('donald', 'trump'), 38213), (('united', 'state'), 32163), (('white', 'house'), 22007), (('hillary', 'clinton'), 21779), (('mr', 'trump'), 18946), (('new', 'york'), 18058), (('last', 'year'), 9046), (('president', 'donald'), 7899), (('last', 'week'), 7512), (('north', 'korea'), 7007)]\n"
          ]
        }
      ]
    },
    {
      "cell_type": "code",
      "source": [
        "# Split the vectorized data into training and testing sets Stemm\n",
        "X_trainLemm, X_testLemm, y_trainLemm, y_testLemm = train_test_split(X_vecLemm, y, test_size=0.2, random_state=42)\n",
        "\n",
        "# Train a logistic regression model on the vectorized training data\n",
        "lrLem = LogisticRegression()\n",
        "lrLem.fit(X_trainLemm, y_trainLemm)\n",
        "\n",
        "# Predict the labels for the vectorized test data\n",
        "y_predLemm = lrLem.predict(X_testLemm)\n",
        "\n",
        "# Evaluate the accuracy of the predicted labels\n",
        "accuracyLemm = accuracy_score(y_testLemm, y_predLemm)\n",
        "print(\"AccuracyLemm:\", accuracyLemm)"
      ],
      "metadata": {
        "id": "L2If-MFISiUP"
      },
      "execution_count": null,
      "outputs": []
    },
    {
      "cell_type": "code",
      "source": [
        "print(classification_report(y_testLemm, y_predLemm))"
      ],
      "metadata": {
        "id": "74DVUOQl2F1d"
      },
      "execution_count": null,
      "outputs": []
    },
    {
      "cell_type": "markdown",
      "source": [
        "Visualization"
      ],
      "metadata": {
        "id": "g5g_c1iIbVU5"
      }
    },
    {
      "cell_type": "code",
      "source": [
        "from sklearn.metrics import confusion_matrix\n",
        "\n",
        "# calculate confusion matrix\n",
        "cm = confusion_matrix(y_testLemm, y_predLemm)\n",
        "\n",
        "# display confusion matrix as a heatmap using seaborn\n",
        "sns.heatmap(cm, annot=True, cmap='Blues', fmt='g')\n"
      ],
      "metadata": {
        "colab": {
          "base_uri": "https://localhost:8080/",
          "height": 448
        },
        "id": "WJiT0GFObZ8p",
        "outputId": "6741a386-e95f-4967-bf7e-2d4d8e9778ba"
      },
      "execution_count": 22,
      "outputs": [
        {
          "data": {
            "text/plain": [
              "<Axes: >"
            ]
          },
          "execution_count": 22,
          "metadata": {},
          "output_type": "execute_result"
        },
        {
          "data": {
            "image/png": "[encoded data removed]",
            "text/plain": [
              "<Figure size 640x480 with 2 Axes>"
            ]
          },
          "metadata": {},
          "output_type": "display_data"
        }
      ]
    },
    {
      "cell_type": "code",
      "source": [
        "\n",
        "\n",
        "# Create a confusion matrix using sklearn\n",
        "conf_mat = confusion_matrix(y_testLemm, y_predLemm)\n",
        "\n",
        "# Normalize the confusion matrix\n",
        "conf_mat_norm = conf_mat.astype('float') / conf_mat.sum(axis=1)[:, np.newaxis]\n",
        "\n",
        "# Create a heatmap using seaborn\n",
        "sns.heatmap(conf_mat_norm, cmap='Blues', annot=True, fmt='.2f', xticklabels=['Negative', 'Positive'], yticklabels=['Negative', 'Positive'])\n"
      ],
      "metadata": {
        "colab": {
          "base_uri": "https://localhost:8080/",
          "height": 448
        },
        "id": "_ECfuNhbeAzb",
        "outputId": "e5cc0557-a5cb-45ef-9d75-c83540b94488"
      },
      "execution_count": 23,
      "outputs": [
        {
          "output_type": "execute_result",
          "data": {
            "text/plain": [
              "<Axes: >"
            ]
          },
          "metadata": {},
          "execution_count": 23
        },
        {
          "output_type": "display_data",
          "data": {
            "text/plain": [
              "<Figure size 640x480 with 2 Axes>"
            ],
            "image/png": "[encoded data removed]"
          },
          "metadata": {}
        }
      ]
    },
    {
      "cell_type": "code",
      "source": [],
      "metadata": {
        "id": "k3Ia_BaNhE5z"
      },
      "execution_count": null,
      "outputs": []
    },
    {
      "cell_type": "code",
      "source": [
        "from wordcloud import WordCloud\n",
        "import matplotlib.pyplot as plt\n",
        "\n",
        "# Convert the lemmatized list into a string\n",
        "#text = ' '.join(X_strLemm)\n",
        "\n",
        "# Generate a word cloud image\n",
        "wordcloud = WordCloud(width=800, height=800, background_color='white').generate(X_strLemm)\n",
        "\n",
        "# Display the generated image\n",
        "plt.figure(figsize=(8, 8), facecolor=None)\n",
        "plt.imshow(wordcloud)\n",
        "plt.axis('off')\n",
        "plt.tight_layout(pad=0)\n",
        "\n",
        "plt.show()\n",
        "\n"
      ],
      "metadata": {
        "id": "6mIEFrDob-_m"
      },
      "execution_count": null,
      "outputs": []
    },
    {
      "cell_type": "code",
      "source": [
        "df['cluster'] = cluster_labels"
      ],
      "metadata": {
        "id": "FxROlI3l9NpU"
      },
      "execution_count": null,
      "outputs": []
    },
    {
      "cell_type": "code",
      "source": [
        "print(df.head())\n"
      ],
      "metadata": {
        "colab": {
          "base_uri": "https://localhost:8080/"
        },
        "id": "US1e6SK79ZM_",
        "outputId": "9f94db2e-9c62-4c9e-c6e7-2d0a79887cf6"
      },
      "execution_count": null,
      "outputs": [
        {
          "output_type": "stream",
          "name": "stdout",
          "text": [
            "                                                text  label  cluster\n",
            "0  The head of a conservative Republican faction ...      1        0\n",
            "1  Transgender people will be allowed for the fir...      1        0\n",
            "2  The special counsel investigation of links bet...      1        4\n",
            "3  Trump campaign adviser George Papadopoulos tol...      1        4\n",
            "4  President Donald Trump called on the U.S. Post...      1        1\n"
          ]
        }
      ]
    },
    {
      "cell_type": "code",
      "source": [],
      "metadata": {
        "id": "XxpmrWrY9c_l"
      },
      "execution_count": null,
      "outputs": []
    }
  ]
}